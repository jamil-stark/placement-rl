{
 "cells": [
  {
   "cell_type": "code",
   "execution_count": 1,
   "metadata": {
    "id": "ZeR3T6DQCU5L"
   },
   "outputs": [],
   "source": [
    "import networkx as nx\n",
    "import numpy as np\n",
    "import matplotlib.pyplot as plt\n",
    "import os\n",
    "import sys\n",
    "import pickle\n",
    "\n",
    "import pyomo.environ as pyo\n",
    "\n",
    "from env.model import *\n",
    "from env.utils import *"
   ]
  },
  {
   "cell_type": "code",
   "execution_count": 2,
   "metadata": {},
   "outputs": [],
   "source": [
    "N = [20, 40, 60, 80, 100]\n",
    "M = [8, 10, 12, 14]\n",
    "for n in N:\n",
    "    p = f'data/N_{n}'\n",
    "    for i in range(10):\n",
    "        delay, bw, speed = generate_network(n, i)\n",
    "        if not os.path.isdir(p):\n",
    "            os.makedirs(p)\n",
    "        pickle.dump([delay, bw, speed], open(os.path.join(p, f'network_{n}_seed_{i}.pk'), 'wb'))\n",
    "        \n",
    "        for m in M:\n",
    "            DAG, constraints = generate_program(m, n, i)\n",
    "            pickle.dump([DAG, constraints], open(os.path.join(p, f'program_{m}_seed_{i}.pk'), 'wb'))\n",
    "       "
   ]
  },
  {
   "cell_type": "code",
   "execution_count": 2,
   "metadata": {},
   "outputs": [
    {
     "name": "stdout",
     "output_type": "stream",
     "text": [
      "[22, 34]\n"
     ]
    }
   ],
   "source": [
    "n = 40\n",
    "m = 8\n",
    "\n",
    "network, program = get_config(n, m)\n",
    "\n",
    "mapping = np.zeros((m, n))\n",
    "mapping[0, program.pinned[0]] = 1\n",
    "mapping[-1, program.pinned[-1]] = 1\n",
    "\n",
    "print(program.pinned)"
   ]
  },
  {
   "cell_type": "code",
   "execution_count": 7,
   "metadata": {
    "colab": {
     "base_uri": "https://localhost:8080/"
    },
    "id": "7N_yQxcKDdT5",
    "outputId": "b66eb8ad-5078-418c-c6a5-4006baf3ad0e"
   },
   "outputs": [
    {
     "name": "stdout",
     "output_type": "stream",
     "text": [
      "[22, 8, 22, 8, 27, 6, 6, 34]\n",
      "(881.6287897121399, [0, 1, 2, 3, 5, 6, 7])\n"
     ]
    }
   ],
   "source": [
    "def iterative(mapping, program, network):\n",
    "    map = np.copy(mapping)\n",
    "    constraints = program.placement_constraints\n",
    "    to_be_mapped = [i for i in range(program.n_operators) if np.sum(mapping[i]) < 1]\n",
    "\n",
    "    for o in to_be_mapped:\n",
    "        map[o, np.random.choice(list(constraints[o]))] = 1\n",
    "  \n",
    "    last_latency, critical_path = evaluate(map, program, network)\n",
    "    \n",
    "    count = 100\n",
    "    while True:\n",
    "        order = list(range(1, len(critical_path)-1))\n",
    "        np.random.shuffle(order)\n",
    "        for i in order:\n",
    "            o = critical_path[i]\n",
    "            s1 = critical_path[i-1]\n",
    "            s2 = critical_path[i+1]\n",
    "            d  = get_mapped_node(map, o)\n",
    "            d1 = get_mapped_node(map, s1)\n",
    "            d2 = get_mapped_node(map, s2)\n",
    "            c_p_c =  network.communication_delay(program.B[s1, o], d1, d) + network.communication_delay(program.B[o, s2], d, d2) + program.T[o, d]\n",
    "            choices = list(constraints[o]) \n",
    "            for n in choices:\n",
    "                new_cpc = network.communication_delay(program.B[s1, o], d1, n) + network.communication_delay(program.B[o, s2], n, d2) + program.T[o, n]\n",
    "                if new_cpc < c_p_c:\n",
    "                    c_p_c = new_cpc\n",
    "                    d = n\n",
    "            map[o] = 0\n",
    "            map[o, d] = 1\n",
    "        cur_latency, critical_path = evaluate(map, program, network)\n",
    "        if cur_latency < last_latency:\n",
    "            last_latency = cur_latency\n",
    "        elif count:\n",
    "            count -= 1\n",
    "        else:\n",
    "            break\n",
    "    return map, last_latency\n",
    "\n",
    "mapp, Lat = iterative(mapping, program, network)\n",
    "print([get_mapped_node(mapp, i) for i in range(m)])\n",
    "print(evaluate(mapp, program, network))\n",
    "# count = 0\n",
    "# avg = 0\n",
    "# for i in range(200):\n",
    "#     mapp, lat = iterative(mapping, program, network)\n",
    "#     avg += lat\n",
    "#     if lat == Lat:\n",
    "#         count += 1\n",
    "# print(f\"Probability of finding the optimal = {count/200}\")\n",
    "# print(f\"Solution average latency = {avg/200}\")"
   ]
  },
  {
   "cell_type": "code",
   "execution_count": null,
   "metadata": {
    "colab": {
     "base_uri": "https://localhost:8080/"
    },
    "id": "gpXc5mXICh2o",
    "outputId": "57729107-44d7-4b44-e84e-152fdf27c4ff"
   },
   "outputs": [],
   "source": [
    "def exhaustive(mapping, program, network):\n",
    "    to_be_mapped = []\n",
    "    constraints = program.placement_constraints\n",
    "    for i in nx.topological_sort(program.P):\n",
    "        if np.sum(mapping[i]) < 1:\n",
    "            to_be_mapped.append(i)\n",
    "    l = len(to_be_mapped)\n",
    "  \n",
    "    def helper(to_be, idx, constraints):\n",
    "        if idx == len(to_be) - 1:\n",
    "            for node in constraints[to_be[idx]]:\n",
    "                yield [node]\n",
    "        else:\n",
    "            for node in constraints[to_be[idx]]:\n",
    "                partial_mapping = helper(to_be, idx+1, constraints)\n",
    "                for p_m in partial_mapping:\n",
    "                    p_m.append(node)\n",
    "                    yield p_m \n",
    "  \n",
    "    min_L = np.inf\n",
    "    min_mapping = None\n",
    "    mapp = np.copy(mapping)\n",
    "    solution = []\n",
    "  \n",
    "    for mapped in helper(to_be_mapped, 0, constraints):\n",
    "        for i in range(l):\n",
    "            mapp[to_be_mapped[i]] = 0\n",
    "            mapp[to_be_mapped[i], mapped[-1-i]] = 1\n",
    "        latency_i, _ = evaluate(mapp, program, network)\n",
    "        solution.append(latency_i)\n",
    "        if latency_i < min_L:\n",
    "            min_L = latency_i\n",
    "            min_mapping = np.copy(mapp)\n",
    "    return min_mapping, min_L, solution\n",
    "\n",
    "\n",
    "mapp, Lat, solution = exhaustive(mapping, program, network)\n",
    "print([get_mapped_node(mapp, i) for i in range(m)])\n",
    "print(evaluate(mapp, program, network))\n"
   ]
  },
  {
   "cell_type": "code",
   "execution_count": null,
   "metadata": {},
   "outputs": [],
   "source": [
    "n, bins, patches = plt.hist(solution, 100, density=True, facecolor='g', alpha=0.75)\n",
    "plt.xlabel('Latency')\n",
    "plt.ylabel('Probability')\n",
    "plt.title('Histogram of Latency of Solutions')\n",
    "plt.grid(True)\n",
    "plt.show()"
   ]
  },
  {
   "cell_type": "code",
   "execution_count": null,
   "metadata": {},
   "outputs": [],
   "source": [
    "\n",
    "def qlp_linear(pinned, placement_constraints, B, T, D, R):\n",
    "    M = T.shape[0]\n",
    "    N = T.shape[1]    \n",
    "    model = pyo.ConcreteModel(name='Linear constraint')\n",
    "    model.x = pyo.Var(range(M), range(N), domain=pyo.Binary)\n",
    "\n",
    "\n",
    "    def _obj(m):\n",
    "        summ = 0\n",
    "        for i in range(M):\n",
    "            for j in range(N):\n",
    "                if T[i,j] < np.inf:\n",
    "                    summ += T[i,j] * m.x[i,j]\n",
    "        for i in range(M):\n",
    "            for j in range(M):\n",
    "                if B[i,j] > 0:\n",
    "                    for k in range(N):\n",
    "                        for l in range(N):\n",
    "                            summ += m.x[i,k] * m.x[j,l] *(B[i,j] *  R[l, k] +  D[l, k])\n",
    "        return summ\n",
    "\n",
    "    model.obj = pyo.Objective(rule = _obj, sense=pyo.minimize)\n",
    "\n",
    "    model.c = pyo.ConstraintList()\n",
    "    model.c.add(model.x[0, pinned[0]] == 1)\n",
    "    model.c.add(model.x[M-1, pinned[1]] == 1)\n",
    "    for i in range(1,M-1):\n",
    "        model.c.add(sum(model.x[i,j] for j in range(N)) == 1)\n",
    "        model.c.add(sum(model.x[i,j] for j in list(placement_constraints[i])) == 1)\n",
    "\n",
    "# model.pprint()\n",
    "\n",
    "    baron = pyo.SolverFactory('baron', executable='~/baron-osx64/baron')\n",
    "    result_obj = baron.solve(model, tee=False)\n",
    "    solution = [j for i in range(M) for j in range(N) if pyo.value(model.x[i,j]) > 0]\n",
    "    return solution\n",
    "\n"
   ]
  },
  {
   "cell_type": "code",
   "execution_count": 119,
   "metadata": {},
   "outputs": [
    {
     "name": "stdout",
     "output_type": "stream",
     "text": [
      "[29, 14, 35, 35, 19]\n",
      "[29, 29, 29, 15, 19]\n",
      "[29, 14, 35, 35, 19]\n",
      "[29, 14, 29, 29, 35, 15, 19]\n",
      "(1181.2643615319541, [0, 1, 4, 5, 6])\n"
     ]
    }
   ],
   "source": [
    "def iterative_qlp(mapping, program, network):\n",
    "    mapp = np.copy(mapping)\n",
    "    constraints = program.placement_constraints\n",
    "    to_be_mapped = [i for i in range(program.n_operators) if np.sum(mapping[i]) < 1]\n",
    "\n",
    "    for o in to_be_mapped:\n",
    "        mapp[o, np.random.choice(list(constraints[o]))] = 1\n",
    "  \n",
    "    last_latency, critical_path = evaluate(mapp, program, network)\n",
    "    best_mapp = np.copy(mapp)\n",
    "    \n",
    "    count = 10\n",
    "    while True:\n",
    "        p_constraints = [constraints[i] for i in critical_path]\n",
    "        B = program.B[critical_path][:, critical_path]\n",
    "        T = program.T[critical_path]\n",
    "        D = network.get_delay_matrix()\n",
    "        R = network.get_rate_matrix()\n",
    "        sol = qlp_linear(program.pinned, p_constraints,B, T, D, R)\n",
    "        for i in range(1, len(critical_path)-1):\n",
    "            mapp[critical_path[i]] = 0\n",
    "            mapp[critical_path[i], sol[i]] = 1\n",
    "        cur_latency, cur_path = evaluate(mapp, program, network)\n",
    "        if set(critical_path) == set(cur_path):\n",
    "            break\n",
    "        if not count:\n",
    "            break\n",
    "        count -=  1\n",
    "\n",
    "        critical_path = cur_path\n",
    "        if cur_latency < last_latency:\n",
    "            last_latency = cur_latency\n",
    "            best_mapp = np.copy(mapp)\n",
    "        \n",
    "    return best_mapp, last_latency\n",
    "\n",
    "mapp, Lat = iterative_qlp(mapping, program, network)\n",
    "print([get_mapped_node(mapp, i) for i in range(M)])\n",
    "print(evaluate(mapp, program, network))"
   ]
  },
  {
   "cell_type": "code",
   "execution_count": null,
   "metadata": {},
   "outputs": [],
   "source": []
  }
 ],
 "metadata": {
  "colab": {
   "name": "Untitled0.ipynb",
   "provenance": []
  },
  "kernelspec": {
   "display_name": "Python 3 (ipykernel)",
   "language": "python",
   "name": "python3"
  },
  "language_info": {
   "codemirror_mode": {
    "name": "ipython",
    "version": 3
   },
   "file_extension": ".py",
   "mimetype": "text/x-python",
   "name": "python",
   "nbconvert_exporter": "python",
   "pygments_lexer": "ipython3",
   "version": "3.8.11"
  }
 },
 "nbformat": 4,
 "nbformat_minor": 1
}
