{
 "cells": [
  {
   "cell_type": "code",
   "execution_count": 1,
   "id": "d2deb093",
   "metadata": {},
   "outputs": [
    {
     "name": "stderr",
     "output_type": "stream",
     "text": [
      "Using backend: pytorch\n"
     ]
    }
   ],
   "source": [
    "import numpy as np\n",
    "import torch\n",
    "import matplotlib.pyplot as plt\n",
    "import random\n",
    "\n",
    "from baseline import exhaustive, random_placement, heft, random_op_greedy_dev, random_op_est_dev\n",
    "from env.utils import generate_program, generate_network\n",
    "from env.network import StarNetwork\n",
    "from env.program import Program\n",
    "from env.latency import evaluate\n",
    "\n",
    "from placement_rl.placement_env import PlacementEnv\n",
    "from placement_rl.placement_agent import PlacementAgent\n",
    "\n",
    "import os\n",
    "import pickle\n",
    "\n",
    "import time\n",
    "device = torch.device(\"cuda\" if torch.cuda.is_available() else \"cpu\")\n"
   ]
  },
  {
   "cell_type": "code",
   "execution_count": 2,
   "id": "5e820c1a",
   "metadata": {},
   "outputs": [],
   "source": [
    "n_devices = [10, 20, 30]\n",
    "n_operators = [10, 20, 30]\n",
    "networks = {n: StarNetwork(*generate_network(n, seed=0)) for n in n_devices}\n",
    "programs = {}\n",
    "for n in n_devices:\n",
    "    programs[n] = {}\n",
    "    for m in n_operators:\n",
    "        programs[n][m] = []\n",
    "        for seed in range(5):\n",
    "            DAG, constraints = generate_program(m, n, seed=seed)\n",
    "            programs[n][m].append(Program(DAG, constraints))"
   ]
  },
  {
   "cell_type": "code",
   "execution_count": null,
   "id": "1d8b20bd",
   "metadata": {},
   "outputs": [
    {
     "name": "stdout",
     "output_type": "stream",
     "text": [
      "[10, 10, 0, 0, 0.1030280590057373, [3, 2, 2, 9, 9, 4, 4, 4, 8, 7], tensor(552.2978, dtype=torch.float64)]\n",
      "[10, 10, 1, 0, 0.07746291160583496, [2, 8, 8, 2, 8, 1, 9, 8, 2, 6], tensor(487.3011, dtype=torch.float64)]\n",
      "[10, 10, 2, 0, 0.062454938888549805, [5, 8, 8, 8, 2, 8, 5, 5, 2, 7], tensor(791.6463, dtype=torch.float64)]\n",
      "[10, 10, 3, 0, 0.06872916221618652, [0, 0, 0, 2, 2, 1, 8, 2, 8, 4], tensor(473.6158, dtype=torch.float64)]\n",
      "[10, 10, 4, 0, 0.07308793067932129, [8, 2, 8, 1, 8, 2, 8, 8, 8, 4], tensor(443.2503, dtype=torch.float64)]\n",
      "[10, 20, 0, 0, 8.78424596786499, [9, 0, 2, 2, 2, 8, 2, 8, 9, 9, 9, 8, 3, 2, 0, 1, 9, 9, 0, 7], tensor(1287.5770, dtype=torch.float64)]\n",
      "[10, 20, 1, 0, 17.13996911048889, [6, 2, 2, 2, 2, 8, 2, 2, 2, 2, 9, 0, 0, 0, 0, 9, 2, 2, 6, 1], tensor(826.2315, dtype=torch.float64)]\n",
      "[10, 20, 2, 0, 22.05184578895569, [2, 9, 9, 2, 9, 9, 9, 8, 9, 9, 9, 9, 9, 8, 2, 2, 8, 9, 2, 8], tensor(841.7935, dtype=torch.float64)]\n",
      "[10, 20, 3, 0, 31.923469066619873, [8, 8, 8, 8, 2, 1, 8, 1, 1, 1, 1, 1, 1, 3, 1, 1, 1, 1, 1, 0], tensor(840.5572, dtype=torch.float64)]\n",
      "[10, 20, 4, 0, 12.081913709640503, [0, 2, 8, 2, 8, 2, 8, 2, 2, 2, 9, 2, 8, 8, 2, 2, 9, 9, 2, 3], tensor(1012.1414, dtype=torch.float64)]\n"
     ]
    }
   ],
   "source": [
    "results = []\n",
    "noises = [0, 0.01, 0.05, 0.1]\n",
    "for ndev in [10]:\n",
    "    network = networks[ndev]\n",
    "    for nop in n_operators:\n",
    "        for seed, program in enumerate(programs[ndev][nop]):\n",
    "            for noise in [0]:\n",
    "                s = time.time()\n",
    "                heft_map, heft_lat = heft(program, network, noise)\n",
    "                t = time.time() - s\n",
    "                results.append([ndev, nop, seed, noise, t, heft_map, heft_lat])\n",
    "                print(results[-1])\n",
    "                "
   ]
  },
  {
   "cell_type": "code",
   "execution_count": null,
   "id": "c22b1d56",
   "metadata": {},
   "outputs": [],
   "source": []
  }
 ],
 "metadata": {
  "kernelspec": {
   "display_name": "Python 3",
   "language": "python",
   "name": "python3"
  },
  "language_info": {
   "codemirror_mode": {
    "name": "ipython",
    "version": 3
   },
   "file_extension": ".py",
   "mimetype": "text/x-python",
   "name": "python",
   "nbconvert_exporter": "python",
   "pygments_lexer": "ipython3",
   "version": "3.8.10"
  }
 },
 "nbformat": 4,
 "nbformat_minor": 5
}
